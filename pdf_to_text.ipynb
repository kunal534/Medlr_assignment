{
  "nbformat": 4,
  "nbformat_minor": 0,
  "metadata": {
    "colab": {
      "provenance": [],
      "include_colab_link": true
    },
    "kernelspec": {
      "name": "python3",
      "display_name": "Python 3"
    },
    "language_info": {
      "name": "python"
    }
  },
  "cells": [
    {
      "cell_type": "markdown",
      "metadata": {
        "id": "view-in-github",
        "colab_type": "text"
      },
      "source": [
        "<a href=\"https://colab.research.google.com/github/kunal534/Medlr_assignment/blob/main/pdf_to_text.ipynb\" target=\"_parent\"><img src=\"https://colab.research.google.com/assets/colab-badge.svg\" alt=\"Open In Colab\"/></a>"
      ]
    },
    {
      "cell_type": "code",
      "execution_count": null,
      "metadata": {
        "id": "l3GYwh-WnFml"
      },
      "outputs": [],
      "source": [
        "!pip install pytesseract pdf2image\n",
        "!apt-get install poppler-utils\n",
        "import os\n",
        "import pytesseract as tess\n",
        "from PIL import Image\n",
        "from pdf2image import convert_from_path\n",
        "def read_pdf(file_name):\n",
        "    pages = []\n",
        "\n",
        "    try:\n",
        "        images = convert_from_path(file_name)\n",
        "        for i, image in enumerate(images):\n",
        "            filename = \"page_\" + str(i) + \"_\" + os.path.basename(file_name) + \".jpeg\"\n",
        "            image.save(filename, \"JPEG\")\n",
        "            text = tess.image_to_string(Image.open(filename))\n",
        "            pages.append(text)\n",
        "\n",
        "    except Exception as e:\n",
        "        print(str(e))\n",
        "\n",
        "    output_file_name = os.path.splitext(file_name)[0] + \".txt\"\n",
        "    with open(output_file_name, \"w\") as f:\n",
        "        f.write(\"\\n\".join(pages))\n",
        "\n",
        "    return output_file_name\n",
        "pdf_file = \"/content/ColorRx-English-Logo-HTWT-Generics.pdf\"\n",
        "print(read_pdf(pdf_file))\n"
      ]
    }
  ]
}