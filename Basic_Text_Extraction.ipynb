{
  "nbformat": 4,
  "nbformat_minor": 0,
  "metadata": {
    "colab": {
      "provenance": [],
      "authorship_tag": "ABX9TyOujbg72dSOzQvi2g9fbfGr",
      "include_colab_link": true
    },
    "kernelspec": {
      "name": "python3",
      "display_name": "Python 3"
    },
    "language_info": {
      "name": "python"
    }
  },
  "cells": [
    {
      "cell_type": "markdown",
      "metadata": {
        "id": "view-in-github",
        "colab_type": "text"
      },
      "source": [
        "<a href=\"https://colab.research.google.com/github/kunal534/Medlr_assignment/blob/main/Basic_Text_Extraction.ipynb\" target=\"_parent\"><img src=\"https://colab.research.google.com/assets/colab-badge.svg\" alt=\"Open In Colab\"/></a>"
      ]
    },
    {
      "cell_type": "code",
      "execution_count": null,
      "metadata": {
        "id": "r4tddxg5gtlo",
        "colab": {
          "base_uri": "https://localhost:8080/"
        },
        "outputId": "6c053ac2-8539-4a19-8f02-8576a575e090"
      },
      "outputs": [
        {
          "output_type": "stream",
          "name": "stdout",
          "text": [
            "Collecting Tesseract\n",
            "  Downloading tesseract-0.1.3.tar.gz (45.6 MB)\n",
            "\u001b[2K     \u001b[90m━━━━━━━━━━━━━━━━━━━━━━━━━━━━━━━━━━━━━━━━\u001b[0m \u001b[32m45.6/45.6 MB\u001b[0m \u001b[31m16.5 MB/s\u001b[0m eta \u001b[36m0:00:00\u001b[0m\n",
            "\u001b[?25h  Preparing metadata (setup.py) ... \u001b[?25l\u001b[?25hdone\n",
            "Building wheels for collected packages: Tesseract\n",
            "  Building wheel for Tesseract (setup.py) ... \u001b[?25l\u001b[?25hdone\n",
            "  Created wheel for Tesseract: filename=tesseract-0.1.3-py3-none-any.whl size=45562552 sha256=5d42a087e96bc5502ffb7ae1b4c6e6f52c78dd867c57957b6068555e00f9a66f\n",
            "  Stored in directory: /root/.cache/pip/wheels/71/c9/aa/698c579693e83fdda9ad6d6f0d8f61ed986e27925ef576f109\n",
            "Successfully built Tesseract\n",
            "Installing collected packages: Tesseract\n",
            "Successfully installed Tesseract-0.1.3\n"
          ]
        }
      ],
      "source": [
        "!pip install Tesseract"
      ]
    },
    {
      "cell_type": "code",
      "source": [
        "!pip install pytesseract"
      ],
      "metadata": {
        "colab": {
          "base_uri": "https://localhost:8080/"
        },
        "id": "udI51XBUhv1G",
        "outputId": "89fc3355-a99f-4635-dc84-f49d9912f7e7"
      },
      "execution_count": null,
      "outputs": [
        {
          "output_type": "stream",
          "name": "stdout",
          "text": [
            "Collecting pytesseract\n",
            "  Downloading pytesseract-0.3.10-py3-none-any.whl (14 kB)\n",
            "Requirement already satisfied: packaging>=21.3 in /usr/local/lib/python3.10/dist-packages (from pytesseract) (23.2)\n",
            "Requirement already satisfied: Pillow>=8.0.0 in /usr/local/lib/python3.10/dist-packages (from pytesseract) (9.4.0)\n",
            "Installing collected packages: pytesseract\n",
            "Successfully installed pytesseract-0.3.10\n"
          ]
        }
      ]
    },
    {
      "cell_type": "code",
      "source": [
        "from PIL import Image\n",
        "import pytesseract\n",
        "import numpy as np"
      ],
      "metadata": {
        "id": "YF5XfoC6hyrE"
      },
      "execution_count": null,
      "outputs": []
    },
    {
      "cell_type": "code",
      "source": [
        "!sudo apt install tesseract-ocr\n",
        "!pip install pytesseract\n",
        "\n",
        "import pytesseract\n",
        "from PIL import Image\n",
        "pytesseract.pytesseract.tesseract_cmd = (r'/usr/bin/tesseract')"
      ],
      "metadata": {
        "colab": {
          "base_uri": "https://localhost:8080/"
        },
        "id": "J-Gu5H6shzIm",
        "outputId": "0fd36e27-71a6-49a3-c3e0-f1f3bb8a87cb"
      },
      "execution_count": null,
      "outputs": [
        {
          "output_type": "stream",
          "name": "stdout",
          "text": [
            "Reading package lists... Done\n",
            "Building dependency tree... Done\n",
            "Reading state information... Done\n",
            "The following additional packages will be installed:\n",
            "  tesseract-ocr-eng tesseract-ocr-osd\n",
            "The following NEW packages will be installed:\n",
            "  tesseract-ocr tesseract-ocr-eng tesseract-ocr-osd\n",
            "0 upgraded, 3 newly installed, 0 to remove and 32 not upgraded.\n",
            "Need to get 4,816 kB of archives.\n",
            "After this operation, 15.6 MB of additional disk space will be used.\n",
            "Get:1 http://archive.ubuntu.com/ubuntu jammy/universe amd64 tesseract-ocr-eng all 1:4.00~git30-7274cfa-1.1 [1,591 kB]\n",
            "Get:2 http://archive.ubuntu.com/ubuntu jammy/universe amd64 tesseract-ocr-osd all 1:4.00~git30-7274cfa-1.1 [2,990 kB]\n",
            "Get:3 http://archive.ubuntu.com/ubuntu jammy/universe amd64 tesseract-ocr amd64 4.1.1-2.1build1 [236 kB]\n",
            "Fetched 4,816 kB in 2s (2,944 kB/s)\n",
            "debconf: unable to initialize frontend: Dialog\n",
            "debconf: (No usable dialog-like program is installed, so the dialog based frontend cannot be used. at /usr/share/perl5/Debconf/FrontEnd/Dialog.pm line 78, <> line 3.)\n",
            "debconf: falling back to frontend: Readline\n",
            "debconf: unable to initialize frontend: Readline\n",
            "debconf: (This frontend requires a controlling tty.)\n",
            "debconf: falling back to frontend: Teletype\n",
            "dpkg-preconfigure: unable to re-open stdin: \n",
            "Selecting previously unselected package tesseract-ocr-eng.\n",
            "(Reading database ... 121747 files and directories currently installed.)\n",
            "Preparing to unpack .../tesseract-ocr-eng_1%3a4.00~git30-7274cfa-1.1_all.deb ...\n",
            "Unpacking tesseract-ocr-eng (1:4.00~git30-7274cfa-1.1) ...\n",
            "Selecting previously unselected package tesseract-ocr-osd.\n",
            "Preparing to unpack .../tesseract-ocr-osd_1%3a4.00~git30-7274cfa-1.1_all.deb ...\n",
            "Unpacking tesseract-ocr-osd (1:4.00~git30-7274cfa-1.1) ...\n",
            "Selecting previously unselected package tesseract-ocr.\n",
            "Preparing to unpack .../tesseract-ocr_4.1.1-2.1build1_amd64.deb ...\n",
            "Unpacking tesseract-ocr (4.1.1-2.1build1) ...\n",
            "Setting up tesseract-ocr-eng (1:4.00~git30-7274cfa-1.1) ...\n",
            "Setting up tesseract-ocr-osd (1:4.00~git30-7274cfa-1.1) ...\n",
            "Setting up tesseract-ocr (4.1.1-2.1build1) ...\n",
            "Processing triggers for man-db (2.10.2-1) ...\n",
            "Requirement already satisfied: pytesseract in /usr/local/lib/python3.10/dist-packages (0.3.10)\n",
            "Requirement already satisfied: packaging>=21.3 in /usr/local/lib/python3.10/dist-packages (from pytesseract) (23.2)\n",
            "Requirement already satisfied: Pillow>=8.0.0 in /usr/local/lib/python3.10/dist-packages (from pytesseract) (9.4.0)\n"
          ]
        }
      ]
    },
    {
      "cell_type": "code",
      "source": [
        "filename = 'prescription1.png'\n",
        "img1 = np.array(Image.open(filename))\n",
        "text = pytesseract.image_to_string(img1)"
      ],
      "metadata": {
        "id": "j6fxkp38h48T"
      },
      "execution_count": null,
      "outputs": []
    },
    {
      "cell_type": "code",
      "source": [
        "print(text)"
      ],
      "metadata": {
        "colab": {
          "base_uri": "https://localhost:8080/"
        },
        "id": "tixcJzFHi-gD",
        "outputId": "35dfa41b-3c9c-4cc9-d5ff-ece74e1a02a7"
      },
      "execution_count": null,
      "outputs": [
        {
          "output_type": "stream",
          "name": "stdout",
          "text": [
            "Dr. Akshara “el ‘SMS hospital\n",
            "\n",
            "MS. B/503, Business Center, MG Road, Pune\n",
            "\n",
            "Reg. No: MMC 2018 - 411000.\n",
            "Ph: 5465647658, Timing: 09:00 AM -\n",
            "01:00 PM, 06:00 PM - 08:00 PM |\n",
            "Closed: Sunday\n",
            "\n",
            " \n",
            "\n",
            "Date: 30-Aug-2023\n",
            "ID: 11 - OPD6 PATIENT (M) /13Y Mob. No.: 9423380390\n",
            "\n",
            "Address: PUNE\n",
            "\n",
            "Weight (Kg): 80, Height (Cm): 200 (B.M.\n",
            "\n",
            "  \n",
            "\n",
            "10.00), BP: 120/80 mmHg\n",
            "\n",
            " \n",
            "\n",
            " \n",
            "\n",
            " \n",
            "\n",
            " \n",
            "\n",
            " \n",
            "\n",
            " \n",
            "\n",
            " \n",
            "\n",
            " \n",
            "\n",
            "Chief Complaints Clinical Findings\n",
            "* FEVER WITH CHILLS (4 DAYS) * THESE ARE TEST FINDINGS FOR A TEST\n",
            "* HEADACHE (2 DAYS) PATIENT\n",
            "* ENTERING SAMPLE DIAGNOSIS AND SAMPLE\n",
            "PRESCRIPTION\n",
            "Diagnosis:\n",
            "* MALARIA\n",
            "a\n",
            "Medicine Name Dosage Duration\n",
            "1) TAB. ABCIXIMAB 1 Morning 8 Days\n",
            "(Tot:8 Tab)\n",
            "2) TAB. VOMILAST 1 Morning, 1 Night 8 Days\n",
            "(After Food) (Tot:16 Tab)\n",
            "DOXYLAMINE 10MG + PYRIDOXINE 10 MG +\n",
            "FOLIC ACID 2.5 MG\n",
            "3) CAP. ZOCLAR 500 1 Morning 3 Days\n",
            "(Tot:3 Cap)\n",
            "(CLARITHROMYCIN IP SOOMG\n",
            "4) TAB, GESTAKIND 10/SR 1 Night 4 Days\n",
            "(Tot:4 Tab)\n",
            "\n",
            " \n",
            "\n",
            "ISOXSUPRINE 10 MG.\n",
            "\n",
            " \n",
            "\n",
            "Advice:\n",
            "* TAKE BED REST\n",
            "* DO NOT EAT OUTSIDE FOOD\n",
            "* EAT EASY TO DIGEST FOOD LIKE BOILED RICE WITH DAAL\n",
            "\n",
            "Follow Up: 04-09-2023\n",
            "\n",
            "‘Susbtitute with equivalent Generics as required.\n",
            "\f\n"
          ]
        }
      ]
    }
  ]
}