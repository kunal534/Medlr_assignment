{
  "nbformat": 4,
  "nbformat_minor": 0,
  "metadata": {
    "colab": {
      "provenance": [],
      "include_colab_link": true
    },
    "kernelspec": {
      "name": "python3",
      "display_name": "Python 3"
    },
    "language_info": {
      "name": "python"
    }
  },
  "cells": [
    {
      "cell_type": "markdown",
      "metadata": {
        "id": "view-in-github",
        "colab_type": "text"
      },
      "source": [
        "<a href=\"https://colab.research.google.com/github/kunal534/Medlr_assignment/blob/main/Number_plate.ipynb\" target=\"_parent\"><img src=\"https://colab.research.google.com/assets/colab-badge.svg\" alt=\"Open In Colab\"/></a>"
      ]
    },
    {
      "cell_type": "code",
      "execution_count": 1,
      "metadata": {
        "id": "zg9tBP3Rnwr-",
        "colab": {
          "base_uri": "https://localhost:8080/"
        },
        "outputId": "c84e77ee-d041-4035-c70e-ee2d2a8e0e4a"
      },
      "outputs": [
        {
          "output_type": "stream",
          "name": "stdout",
          "text": [
            "Reading package lists... Done\n",
            "Building dependency tree... Done\n",
            "Reading state information... Done\n",
            "The following additional packages will be installed:\n",
            "  tesseract-ocr-eng tesseract-ocr-osd\n",
            "The following NEW packages will be installed:\n",
            "  tesseract-ocr tesseract-ocr-eng tesseract-ocr-osd\n",
            "0 upgraded, 3 newly installed, 0 to remove and 32 not upgraded.\n",
            "Need to get 4,816 kB of archives.\n",
            "After this operation, 15.6 MB of additional disk space will be used.\n",
            "Get:1 http://archive.ubuntu.com/ubuntu jammy/universe amd64 tesseract-ocr-eng all 1:4.00~git30-7274cfa-1.1 [1,591 kB]\n",
            "Get:2 http://archive.ubuntu.com/ubuntu jammy/universe amd64 tesseract-ocr-osd all 1:4.00~git30-7274cfa-1.1 [2,990 kB]\n",
            "Get:3 http://archive.ubuntu.com/ubuntu jammy/universe amd64 tesseract-ocr amd64 4.1.1-2.1build1 [236 kB]\n",
            "Fetched 4,816 kB in 1s (3,491 kB/s)\n",
            "debconf: unable to initialize frontend: Dialog\n",
            "debconf: (No usable dialog-like program is installed, so the dialog based frontend cannot be used. at /usr/share/perl5/Debconf/FrontEnd/Dialog.pm line 78, <> line 3.)\n",
            "debconf: falling back to frontend: Readline\n",
            "debconf: unable to initialize frontend: Readline\n",
            "debconf: (This frontend requires a controlling tty.)\n",
            "debconf: falling back to frontend: Teletype\n",
            "dpkg-preconfigure: unable to re-open stdin: \n",
            "Selecting previously unselected package tesseract-ocr-eng.\n",
            "(Reading database ... 121747 files and directories currently installed.)\n",
            "Preparing to unpack .../tesseract-ocr-eng_1%3a4.00~git30-7274cfa-1.1_all.deb ...\n",
            "Unpacking tesseract-ocr-eng (1:4.00~git30-7274cfa-1.1) ...\n",
            "Selecting previously unselected package tesseract-ocr-osd.\n",
            "Preparing to unpack .../tesseract-ocr-osd_1%3a4.00~git30-7274cfa-1.1_all.deb ...\n",
            "Unpacking tesseract-ocr-osd (1:4.00~git30-7274cfa-1.1) ...\n",
            "Selecting previously unselected package tesseract-ocr.\n",
            "Preparing to unpack .../tesseract-ocr_4.1.1-2.1build1_amd64.deb ...\n",
            "Unpacking tesseract-ocr (4.1.1-2.1build1) ...\n",
            "Setting up tesseract-ocr-eng (1:4.00~git30-7274cfa-1.1) ...\n",
            "Setting up tesseract-ocr-osd (1:4.00~git30-7274cfa-1.1) ...\n",
            "Setting up tesseract-ocr (4.1.1-2.1build1) ...\n",
            "Processing triggers for man-db (2.10.2-1) ...\n",
            "Collecting pytesseract\n",
            "  Downloading pytesseract-0.3.10-py3-none-any.whl (14 kB)\n",
            "Requirement already satisfied: packaging>=21.3 in /usr/local/lib/python3.10/dist-packages (from pytesseract) (23.2)\n",
            "Requirement already satisfied: Pillow>=8.0.0 in /usr/local/lib/python3.10/dist-packages (from pytesseract) (9.4.0)\n",
            "Installing collected packages: pytesseract\n",
            "Successfully installed pytesseract-0.3.10\n"
          ]
        }
      ],
      "source": [
        "!sudo apt install tesseract-ocr\n",
        "!pip install pytesseract\n",
        "\n",
        "import pytesseract\n",
        "from PIL import Image\n",
        "pytesseract.pytesseract.tesseract_cmd = (r'/usr/bin/tesseract')"
      ]
    },
    {
      "cell_type": "code",
      "source": [
        "from pytesseract import Output\n",
        "import pytesseract\n",
        "import cv2"
      ],
      "metadata": {
        "id": "AJqOem99n28j"
      },
      "execution_count": 2,
      "outputs": []
    },
    {
      "cell_type": "code",
      "source": [
        "filename = 'number3.png'\n",
        "image = cv2.imread(filename)"
      ],
      "metadata": {
        "id": "-fgcV6mxn3AA"
      },
      "execution_count": 3,
      "outputs": []
    },
    {
      "cell_type": "code",
      "source": [
        "results = pytesseract.image_to_data(image,\n",
        "output_type=Output.DICT)"
      ],
      "metadata": {
        "id": "CyW8aw4jn3DM"
      },
      "execution_count": 4,
      "outputs": []
    },
    {
      "cell_type": "code",
      "source": [
        "{\n",
        "'level': [1, 2, 3, 4, 5, 5, 5],\n",
        "'page_num': [1, 1, 1, 1, 1, 1, 1],\n",
        "'block_num': [0, 1, 1, 1, 1, 1, 1],\n",
        "'par_num': [0, 0, 1, 1, 1, 1, 1],\n",
        "'line_num': [0, 0, 0, 1, 1, 1, 1],\n",
        "'word_num': [0, 0, 0, 0, 1, 2, 3],\n",
        "'left': [0, 26, 26, 26, 26, 110, 216],\n",
        "'top': [0, 63, 63, 63, 63, 63, 63],\n",
        "'width': [300, 249, 249, 249, 77, 100, 59],\n",
        "'height': [150, 25, 25, 25, 25, 19, 19],\n",
        "'conf': ['-1', '-1', '-1', '-1', 97, 96, 96],\n",
        "'text': ['', '', '', '', 'Testing', 'Tesseract', 'OCR']\n",
        "}"
      ],
      "metadata": {
        "id": "Eih0bxgUn3Gi",
        "colab": {
          "base_uri": "https://localhost:8080/"
        },
        "outputId": "0eac77a2-b2a3-4c35-cbab-829f87ef0cbd"
      },
      "execution_count": 5,
      "outputs": [
        {
          "output_type": "execute_result",
          "data": {
            "text/plain": [
              "{'level': [1, 2, 3, 4, 5, 5, 5],\n",
              " 'page_num': [1, 1, 1, 1, 1, 1, 1],\n",
              " 'block_num': [0, 1, 1, 1, 1, 1, 1],\n",
              " 'par_num': [0, 0, 1, 1, 1, 1, 1],\n",
              " 'line_num': [0, 0, 0, 1, 1, 1, 1],\n",
              " 'word_num': [0, 0, 0, 0, 1, 2, 3],\n",
              " 'left': [0, 26, 26, 26, 26, 110, 216],\n",
              " 'top': [0, 63, 63, 63, 63, 63, 63],\n",
              " 'width': [300, 249, 249, 249, 77, 100, 59],\n",
              " 'height': [150, 25, 25, 25, 25, 19, 19],\n",
              " 'conf': ['-1', '-1', '-1', '-1', 97, 96, 96],\n",
              " 'text': ['', '', '', '', 'Testing', 'Tesseract', 'OCR']}"
            ]
          },
          "metadata": {},
          "execution_count": 5
        }
      ]
    },
    {
      "cell_type": "code",
      "source": [
        "for i in range(0, len(results['text'])):\n",
        "   x = results['left'][i]\n",
        "   y = results['top'][i]\n",
        "\n",
        "   w = results['width'][i]\n",
        "   h = results['height'][i]\n",
        "\n",
        "   text = results['text'][i]\n",
        "   conf = int(results['conf'][i])\n",
        "\n",
        "   if conf > 70:\n",
        "       text = \"\".join([c if ord(c) < 128 else \"\" for c in text]).strip()\n",
        "       cv2.rectangle(image, (x, y), (x + w, y + h), (0, 255, 0), 2)\n",
        "       cv2.putText(image, text, (x, y - 10),\n",
        "cv2.FONT_HERSHEY_SIMPLEX, 0.5, (0, 0, 200), 2)"
      ],
      "metadata": {
        "id": "dZr8vlRcn3J_"
      },
      "execution_count": 6,
      "outputs": []
    },
    {
      "cell_type": "code",
      "source": [
        "from google.colab.patches import cv2_imshow"
      ],
      "metadata": {
        "id": "xUotq_pMobdn"
      },
      "execution_count": 7,
      "outputs": []
    },
    {
      "cell_type": "code",
      "source": [
        "cv2_imshow(image)"
      ],
      "metadata": {
        "id": "G4G0BQlnobg1",
        "colab": {
          "base_uri": "https://localhost:8080/",
          "height": 238
        },
        "outputId": "19320cfe-868d-4bd4-ad47-df18c978c752"
      },
      "execution_count": 8,
      "outputs": [
        {
          "output_type": "display_data",
          "data": {
            "text/plain": [
              "<PIL.Image.Image image mode=RGB size=348x221>"
            ],
            "image/png": "[encoded data removed]"
          },
          "metadata": {}
        }
      ]
    },
    {
      "cell_type": "code",
      "source": [],
      "metadata": {
        "id": "VzekcPB1obnB"
      },
      "execution_count": null,
      "outputs": []
    }
  ]
}